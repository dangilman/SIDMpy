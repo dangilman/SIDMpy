{
 "cells": [
  {
   "cell_type": "code",
   "execution_count": 7,
   "metadata": {},
   "outputs": [],
   "source": [
    "from sidmpy.Solver.util import compute_rho_sigmav_grid\n",
    "from sidmpy.CrossSections.tchannel import TChannel\n",
    "import numpy as np\n",
    "import matplotlib.pyplot as plt"
   ]
  },
  {
   "cell_type": "markdown",
   "metadata": {},
   "source": [
    "The model used to compute the central density of the SIDM profile sometimes admits two solutions, one with a core radius that is the same order as the scale radius, and a second solution with a core that is much smaller. To show this, we'll compute the goodness of fit of many combinations of central densities and velocity dispersions."
   ]
  },
  {
   "cell_type": "code",
   "execution_count": 20,
   "metadata": {},
   "outputs": [],
   "source": [
    "N = 100\n",
    "log_rho = np.linspace(6.7, 14., N)\n",
    "vdis = np.linspace(3, 15, N)\n",
    "log_rho_values, vdis_values = np.meshgrid(log_rho, vdis)\n",
    "shape0 = log_rho_values.shape\n",
    "log_rho_values = log_rho_values.ravel()\n",
    "vdis_values = vdis_values.ravel()\n",
    "rhos, rs, halo_age = 5 * 10 ** 7, 0.5, 10.\n",
    "kwargs_cross = {'norm': 10., 'v_ref': 50.}\n",
    "cross_section_class = TChannel(**kwargs_cross)\n",
    "rmin_profile = 1e-3\n",
    "rmax_profile = 10.\n",
    "\n",
    "grid = compute_rho_sigmav_grid(log_rho_values, vdis_values, rhos, rs, cross_section_class, halo_age, \n",
    "                               rmin_profile, rmax_profile, use_nfw_velocity_dispersion=False).reshape(shape0)\n",
    "loggrid = np.log10(grid)"
   ]
  },
  {
   "cell_type": "markdown",
   "metadata": {},
   "source": [
    "### Plot results\n",
    "\n",
    "Below, the x-axis shows log10(rho_central) and the y-axis shows the velocity dispersion in km/sec"
   ]
  },
  {
   "cell_type": "code",
   "execution_count": 24,
   "metadata": {},
   "outputs": [
    {
     "data": {
      "image/png": "[encoded data removed]",
      "text/plain": [
       "<Figure size 432x288 with 1 Axes>"
      ]
     },
     "metadata": {},
     "output_type": "display_data"
    }
   ],
   "source": [
    "worst = np.max(loggrid)\n",
    "best = np.min(loggrid)\n",
    "aspect = abs(log_rho[-1] - log_rho[0])/(vdis[-1] - vdis[0])\n",
    "fig = plt.figure(1)\n",
    "ax = plt.subplot(111)\n",
    "ax.imshow(loggrid, extent=[log_rho[0], log_rho[-1], vdis[0], vdis[-1]],\n",
    "                       aspect=aspect, cmap='bwr', origin='lower', vmin=best, vmax=worst)\n",
    "\n",
    "cored_logrho, cored_sigmav = 7.95, 7.5\n",
    "cored_solution = [cored_logrho, cored_sigmav]\n",
    "plt.scatter(*cored_solution, color='k', marker='+')\n",
    "\n",
    "cusp_logrho, cusp_sigmav = 11.3, 8.7\n",
    "cusp_solution = [cusp_logrho, cusp_sigmav]\n",
    "plt.scatter(*cusp_solution, color='k', marker='+')\n",
    "plt.xlabel(r'$\\log_{10} \\rho_0$', fontsize=16)\n",
    "plt.ylabel('velocity dispersion', fontsize=12)\n",
    "plt.savefig('multiple_solutions.pdf')"
   ]
  },
  {
   "cell_type": "code",
   "execution_count": null,
   "metadata": {},
   "outputs": [],
   "source": []
  }
 ],
 "metadata": {
  "kernelspec": {
   "display_name": "Python 3",
   "language": "python",
   "name": "python3"
  },
  "language_info": {
   "codemirror_mode": {
    "name": "ipython",
    "version": 3
   },
   "file_extension": ".py",
   "mimetype": "text/x-python",
   "name": "python",
   "nbconvert_exporter": "python",
   "pygments_lexer": "ipython3",
   "version": "3.6.5"
  }
 },
 "nbformat": 4,
 "nbformat_minor": 2
}
