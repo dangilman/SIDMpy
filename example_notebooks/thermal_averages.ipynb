{
 "cells": [
  {
   "cell_type": "code",
   "execution_count": 4,
   "id": "e58c909f",
   "metadata": {},
   "outputs": [],
   "source": [
    "from sidmpy.CrossSections.velocity_independent import VelocityIndependentCrossSection\n",
    "from sidmpy.core_collapse_timescale import evolution_timescale_v5 "
   ]
  },
  {
   "cell_type": "code",
   "execution_count": 13,
   "id": "73effef7",
   "metadata": {},
   "outputs": [
    {
     "name": "stdout",
     "output_type": "stream",
     "text": [
      "2.3105843989788584 Gyr\n"
     ]
    }
   ],
   "source": [
    "amp = 10 # cm^2 / gram\n",
    "cross_section = VelocityIndependentCrossSection(amp)\n",
    "rho_s = 10 ** 7 # solar mass / kpc^3\n",
    "rs = 0.4 # kpc\n",
    "v_rms = 10 # 1D velocity dispersion\n",
    "t_0 = evolution_timescale_v5(rho_s, rs, v_rms, cross_section)\n",
    "print(t_0, 'Gyr')"
   ]
  },
  {
   "cell_type": "code",
   "execution_count": null,
   "id": "13959dc2",
   "metadata": {},
   "outputs": [],
   "source": []
  }
 ],
 "metadata": {
  "kernelspec": {
   "display_name": "Python 3",
   "language": "python",
   "name": "python3"
  },
  "language_info": {
   "codemirror_mode": {
    "name": "ipython",
    "version": 3
   },
   "file_extension": ".py",
   "mimetype": "text/x-python",
   "name": "python",
   "nbconvert_exporter": "python",
   "pygments_lexer": "ipython3",
   "version": "3.8.10"
  }
 },
 "nbformat": 4,
 "nbformat_minor": 5
}
