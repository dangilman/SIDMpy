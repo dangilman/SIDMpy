{
 "cells": [
  {
   "cell_type": "markdown",
   "metadata": {},
   "source": [
    "### Core collapse\n",
    "\n",
    "Heat trasnfer due to self interactions can lead to core collapse of SIDM halos, particularly at high cross sections. This process can be accelerated if the halos exist in a tidal field (i.e. are subhalos). "
   ]
  },
  {
   "cell_type": "code",
   "execution_count": 1,
   "metadata": {},
   "outputs": [
    {
     "name": "stdout",
     "output_type": "stream",
     "text": [
      "71.34890364091049\n",
      "0.065042230844773\n"
     ]
    }
   ],
   "source": [
    "from sidmpy.CrossSections.power_law import PowerLaw\n",
    "from sidmpy.core_collapse_timescale import evolution_timescale\n",
    "from sidmpy.Solver.util import nfw_velocity_dispersion\n",
    "\n",
    "rhos, rs = 21959479.819181114, 0.5909608790065194 # for a 10^8 halo at z = 0.5\n",
    "cross_norm = 2.\n",
    "kwargs_cross_section = {'norm': cross_norm, 'v_ref': 30, 'v_dep': 0.}\n",
    "cross = PowerLaw(**kwargs_cross_section)\n",
    "\n",
    "# can use the velocity dispersion insize the scale radius as a characteristic velocity scale\n",
    "# this is pretty close to the velocity dispersion you get for the SIDM profile\n",
    "v = nfw_velocity_dispersion(rs, rhos, rs)\n",
    "velocity_averaged_cross_section = cross.maxwell_boltzmann_average(v)\n",
    "print(velocity_averaged_cross_section)\n",
    "t0 = evolution_timescale(rhos, rs, velocity_averaged_cross_section)\n",
    "print(t0)"
   ]
  },
  {
   "cell_type": "markdown",
   "metadata": {},
   "source": [
    "## Timescales for subhalos and field halos\n",
    "\n",
    "Eventually, all SIDM halos should undergoe core collapse. The timescale for this process depends on the strength of the interaction cross section and other processes like tidal stripping. Depending on these factors, it can be much longer than, comparable, or shorter than the age of the Universe. \n",
    "\n",
    "Nishikawa et al. 2020 (https://arxiv.org/pdf/1901.00499.pdf) track SIDM halos in the field, and compare their evolution with subhalos with similar physical properties. They find that isolated halos in the field build up their cores until t \\sim 50*t0, and then begin to contract until $t = 350 t_0$. On the other hand, a tidally truncated halo builds up a core until $t \\sim 5 t_0$, and core collapse occurs by $t = 20-50 t_0$, depending on exactly how long the halo exists in the tidal field. We will consider characteristic core collapse time scales of $20 t_0$ and $200 t_0$ for subhalos and field halos, respectively. "
   ]
  },
  {
   "cell_type": "code",
   "execution_count": 2,
   "metadata": {},
   "outputs": [
    {
     "name": "stdout",
     "output_type": "stream",
     "text": [
      "1.30084461689546 13.008446168954599\n"
     ]
    }
   ],
   "source": [
    "t_sub = t0 * 20\n",
    "t_field = t0 * 200\n",
    "print(t_sub, t_field)"
   ]
  },
  {
   "cell_type": "markdown",
   "metadata": {},
   "source": [
    "We therefore expect most subhalos to have undergone core collapse on average by 1.3 Gyr after they form, while field halos will still have cores 13 Gyr after formation. This is assuming a velocity dependent cross section \"TCHANNEL\" (see other example notebook) with a cross section of 2 cm^2/gram at 30 km/sec. "
   ]
  },
  {
   "cell_type": "code",
   "execution_count": null,
   "metadata": {},
   "outputs": [],
   "source": []
  }
 ],
 "metadata": {
  "kernelspec": {
   "display_name": "Python 3",
   "language": "python",
   "name": "python3"
  },
  "language_info": {
   "codemirror_mode": {
    "name": "ipython",
    "version": 3
   },
   "file_extension": ".py",
   "mimetype": "text/x-python",
   "name": "python",
   "nbconvert_exporter": "python",
   "pygments_lexer": "ipython3",
   "version": "3.6.5"
  }
 },
 "nbformat": 4,
 "nbformat_minor": 2
}
